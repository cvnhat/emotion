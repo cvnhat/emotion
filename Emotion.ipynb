{
 "cells": [
  {
   "cell_type": "code",
   "execution_count": 27,
   "metadata": {},
   "outputs": [],
   "source": [
    "import os\n",
    "import pandas as pd\n",
    "from imageio import imread\n",
    "import math\n",
    "import numpy as np\n",
    "import cv2\n",
    "import keras\n",
    "from keras.layers import Dense, Dropout, Flatten, Input\n",
    "from keras.layers import Conv2D, MaxPooling2D\n",
    "from keras.layers import BatchNormalization\n",
    "from keras.optimizers import Adam\n",
    "from keras.models import Sequential\n",
    "from keras.models import load_model"
   ]
  },
  {
   "cell_type": "code",
   "execution_count": 28,
   "metadata": {},
   "outputs": [],
   "source": [
    "def load_data(input_size = (48,48), data_path = 'C:\\\\Users\\LEGION\\OneDrive\\Desktop\\train'):\n",
    "\n",
    "    pixels = []\n",
    "    labels = []\n",
    "    \n",
    "    # Loop qua các thư mục trong thư mục Train\n",
    "    i=0\n",
    "    for dir in os.listdir(data_path):\n",
    "        class_dir = os.path.join(data_path, dir)\n",
    "        # Lăp trong file\n",
    "            # Đọc ảnh\n",
    "            #pixel = imread(os.path.join(class_dir, )\n",
    "            # Resize về kích cỡ chuẩn\n",
    "            #img = cv2.resize(pixel, input_size)\n",
    "            # Thêm vào list dữ liệu\n",
    "            #pixels.append(img)\n",
    "            # Thêm nhãn cho ảnh\n",
    "            #labels.append(dir)\n",
    "        path = glob.glob(class_dir + '\\*.jpg')\n",
    "        for img in path:\n",
    "            labels.append(i)\n",
    "            pixel = cv2.imread(img)\n",
    "            pixels.append(pixel)\n",
    "        i+=1\n",
    "    return pixels, labels"
   ]
  },
  {
   "cell_type": "code",
   "execution_count": 29,
   "metadata": {},
   "outputs": [],
   "source": [
    "import glob\n",
    "data_path = 'C:\\\\Users\\LEGION\\OneDrive\\Desktop\\\\train'\n",
    "pixels, labels = load_data(data_path=data_path)"
   ]
  },
  {
   "cell_type": "code",
   "execution_count": 33,
   "metadata": {},
   "outputs": [],
   "source": [
    "def split_train_val_test_data(pixels, labels):\n",
    "\n",
    "    # Chuẩn hoá dữ liệu pixels và labels\n",
    "    pixels = np.array(pixels)\n",
    "    labels = keras.utils.np_utils.to_categorical(labels)\n",
    "\n",
    "    # Nhào trộn dữ liệu ngẫu nhiên\n",
    "    randomize = np.arange(len(pixels))\n",
    "    np.random.shuffle(randomize)\n",
    "    X = pixels[randomize]\n",
    "    print(\"X=\", X.shape)\n",
    "    y = labels[randomize]\n",
    "\n",
    "    # Chia dữ liệu theo tỷ lệ 60% train và 40% còn lại cho val và test\n",
    "    train_size = int(X.shape[0] * 0.6)\n",
    "    X_train, X_val = X[:train_size], X[train_size:]\n",
    "    y_train, y_val = y[:train_size], y[train_size:]\n",
    "\n",
    "    val_size = int(X_val.shape[0] * 0.5) # 50% của phần 40% bên trên\n",
    "    X_val, X_test = X_val[:val_size], X_val[val_size:]\n",
    "    y_val, y_test = y_val[:val_size], y_val[val_size:]\n",
    "\n",
    "    return X_train, y_train, X_val, y_val, X_test, y_test"
   ]
  },
  {
   "cell_type": "code",
   "execution_count": 34,
   "metadata": {},
   "outputs": [
    {
     "name": "stdout",
     "output_type": "stream",
     "text": [
      "X= (28709, 48, 48, 3)\n"
     ]
    }
   ],
   "source": [
    "X_train, y_train, X_val, y_val, X_test, y_test = split_train_val_test_data(pixels, labels)"
   ]
  },
  {
   "cell_type": "code",
   "execution_count": 35,
   "metadata": {},
   "outputs": [],
   "source": [
    "def build_model(input_shape=(48,48,3), filter_size = (3,3), pool_size = (2, 2), output_size = 48):\n",
    "    model = Sequential([\n",
    "        Conv2D(32, kernel_size=(3, 3), activation='relu', input_shape=(48,48,3)),\n",
    "        Conv2D(64, kernel_size=(3, 3), activation='relu'),\n",
    "        MaxPooling2D(pool_size=(2, 2)),\n",
    "        Dropout(0.25),\n",
    "        Conv2D(128, kernel_size=(3, 3), activation='relu'),\n",
    "        MaxPooling2D(pool_size=(2, 2)),\n",
    "        Conv2D(128, kernel_size=(3, 3), activation='relu'),\n",
    "        MaxPooling2D(pool_size=(2, 2)),\n",
    "        Dropout(0.25),\n",
    "        Flatten(),\n",
    "        Dense(1024, activation='relu'),\n",
    "        Dropout(0.5),\n",
    "        Dense(7, activation='softmax')\n",
    "    ])\n",
    "\n",
    "    model.compile(loss='categorical_crossentropy', optimizer=Adam(lr=1e-4), metrics=['accuracy'])\n",
    "    model.summary()\n",
    "    return model"
   ]
  },
  {
   "cell_type": "code",
   "execution_count": 36,
   "metadata": {},
   "outputs": [
    {
     "name": "stdout",
     "output_type": "stream",
     "text": [
      "Model: \"sequential_8\"\n",
      "_________________________________________________________________\n",
      "Layer (type)                 Output Shape              Param #   \n",
      "=================================================================\n",
      "conv2d_33 (Conv2D)           (None, 46, 46, 32)        896       \n",
      "_________________________________________________________________\n",
      "conv2d_34 (Conv2D)           (None, 44, 44, 64)        18496     \n",
      "_________________________________________________________________\n",
      "max_pooling2d_22 (MaxPooling (None, 22, 22, 64)        0         \n",
      "_________________________________________________________________\n",
      "dropout_28 (Dropout)         (None, 22, 22, 64)        0         \n",
      "_________________________________________________________________\n",
      "conv2d_35 (Conv2D)           (None, 20, 20, 128)       73856     \n",
      "_________________________________________________________________\n",
      "max_pooling2d_23 (MaxPooling (None, 10, 10, 128)       0         \n",
      "_________________________________________________________________\n",
      "conv2d_36 (Conv2D)           (None, 8, 8, 128)         147584    \n",
      "_________________________________________________________________\n",
      "max_pooling2d_24 (MaxPooling (None, 4, 4, 128)         0         \n",
      "_________________________________________________________________\n",
      "dropout_29 (Dropout)         (None, 4, 4, 128)         0         \n",
      "_________________________________________________________________\n",
      "flatten_8 (Flatten)          (None, 2048)              0         \n",
      "_________________________________________________________________\n",
      "dense_19 (Dense)             (None, 1024)              2098176   \n",
      "_________________________________________________________________\n",
      "dropout_30 (Dropout)         (None, 1024)              0         \n",
      "_________________________________________________________________\n",
      "dense_20 (Dense)             (None, 7)                 7175      \n",
      "=================================================================\n",
      "Total params: 2,346,183\n",
      "Trainable params: 2,346,183\n",
      "Non-trainable params: 0\n",
      "_________________________________________________________________\n",
      "Train on 17225 samples, validate on 5742 samples\n",
      "Epoch 1/30\n",
      "17225/17225 [==============================] - 30s 2ms/step - loss: 2.4240 - accuracy: 0.2231 - val_loss: 1.8387 - val_accuracy: 0.2482\n",
      "Epoch 2/30\n",
      "17225/17225 [==============================] - 21s 1ms/step - loss: 1.8213 - accuracy: 0.2527 - val_loss: 1.8116 - val_accuracy: 0.2483\n",
      "Epoch 3/30\n",
      "17225/17225 [==============================] - 21s 1ms/step - loss: 1.8090 - accuracy: 0.2557 - val_loss: 1.8096 - val_accuracy: 0.2468\n",
      "Epoch 4/30\n",
      "17225/17225 [==============================] - 21s 1ms/step - loss: 1.8093 - accuracy: 0.2560 - val_loss: 1.8089 - val_accuracy: 0.2470\n",
      "Epoch 5/30\n",
      "17225/17225 [==============================] - 20s 1ms/step - loss: 1.8086 - accuracy: 0.2563 - val_loss: 1.8135 - val_accuracy: 0.2463\n",
      "Epoch 6/30\n",
      "17225/17225 [==============================] - 20s 1ms/step - loss: 1.8075 - accuracy: 0.2568 - val_loss: 1.8084 - val_accuracy: 0.2470\n",
      "Epoch 7/30\n",
      "17225/17225 [==============================] - 21s 1ms/step - loss: 1.8061 - accuracy: 0.2582 - val_loss: 1.8071 - val_accuracy: 0.2482\n",
      "Epoch 8/30\n",
      "17225/17225 [==============================] - 21s 1ms/step - loss: 1.8047 - accuracy: 0.2602 - val_loss: 1.8061 - val_accuracy: 0.2485\n",
      "Epoch 9/30\n",
      "17225/17225 [==============================] - 21s 1ms/step - loss: 1.8047 - accuracy: 0.2590 - val_loss: 1.8070 - val_accuracy: 0.2482\n",
      "Epoch 10/30\n",
      "17225/17225 [==============================] - 21s 1ms/step - loss: 1.8022 - accuracy: 0.2614 - val_loss: 1.8127 - val_accuracy: 0.2476\n",
      "Epoch 11/30\n",
      "17225/17225 [==============================] - 21s 1ms/step - loss: 1.7982 - accuracy: 0.2637 - val_loss: 1.8050 - val_accuracy: 0.2515\n",
      "Epoch 12/30\n",
      "17225/17225 [==============================] - 20s 1ms/step - loss: 1.7966 - accuracy: 0.2643 - val_loss: 1.8049 - val_accuracy: 0.2517\n",
      "Epoch 13/30\n",
      "17225/17225 [==============================] - 20s 1ms/step - loss: 1.7929 - accuracy: 0.2649 - val_loss: 1.8024 - val_accuracy: 0.2553\n",
      "Epoch 14/30\n",
      "17225/17225 [==============================] - 21s 1ms/step - loss: 1.7802 - accuracy: 0.2701 - val_loss: 1.7698 - val_accuracy: 0.2647\n",
      "Epoch 15/30\n",
      "17225/17225 [==============================] - 21s 1ms/step - loss: 1.7036 - accuracy: 0.3152 - val_loss: 1.5858 - val_accuracy: 0.3685\n",
      "Epoch 16/30\n",
      "17225/17225 [==============================] - 21s 1ms/step - loss: 1.5605 - accuracy: 0.3968 - val_loss: 1.4976 - val_accuracy: 0.4150\n",
      "Epoch 17/30\n",
      "17225/17225 [==============================] - 21s 1ms/step - loss: 1.4582 - accuracy: 0.4352 - val_loss: 1.4068 - val_accuracy: 0.4631\n",
      "Epoch 18/30\n",
      "17225/17225 [==============================] - 20s 1ms/step - loss: 1.3822 - accuracy: 0.4749 - val_loss: 1.3421 - val_accuracy: 0.4923\n",
      "Epoch 19/30\n",
      "17225/17225 [==============================] - 21s 1ms/step - loss: 1.3331 - accuracy: 0.4924 - val_loss: 1.3278 - val_accuracy: 0.4993\n",
      "Epoch 20/30\n",
      "17225/17225 [==============================] - 21s 1ms/step - loss: 1.2804 - accuracy: 0.5140 - val_loss: 1.2916 - val_accuracy: 0.5071\n",
      "Epoch 21/30\n",
      "17225/17225 [==============================] - 21s 1ms/step - loss: 1.2285 - accuracy: 0.5363 - val_loss: 1.2565 - val_accuracy: 0.5253\n",
      "Epoch 22/30\n",
      "17225/17225 [==============================] - 21s 1ms/step - loss: 1.1844 - accuracy: 0.5523 - val_loss: 1.2480 - val_accuracy: 0.5261\n",
      "Epoch 23/30\n",
      "17225/17225 [==============================] - 21s 1ms/step - loss: 1.1428 - accuracy: 0.5693 - val_loss: 1.2452 - val_accuracy: 0.5296\n",
      "Epoch 24/30\n",
      "17225/17225 [==============================] - 20s 1ms/step - loss: 1.0950 - accuracy: 0.5896 - val_loss: 1.2369 - val_accuracy: 0.5404\n",
      "Epoch 25/30\n",
      "17225/17225 [==============================] - 20s 1ms/step - loss: 1.0612 - accuracy: 0.6033 - val_loss: 1.2149 - val_accuracy: 0.5502\n",
      "Epoch 26/30\n",
      "17225/17225 [==============================] - 21s 1ms/step - loss: 1.0116 - accuracy: 0.6182 - val_loss: 1.2046 - val_accuracy: 0.5590\n",
      "Epoch 27/30\n",
      "17225/17225 [==============================] - 21s 1ms/step - loss: 0.9694 - accuracy: 0.6393 - val_loss: 1.1950 - val_accuracy: 0.5693\n",
      "Epoch 28/30\n",
      "17225/17225 [==============================] - 21s 1ms/step - loss: 0.9303 - accuracy: 0.6517 - val_loss: 1.2121 - val_accuracy: 0.5615\n",
      "Epoch 29/30\n",
      "17225/17225 [==============================] - 21s 1ms/step - loss: 0.9002 - accuracy: 0.6646 - val_loss: 1.1931 - val_accuracy: 0.5714\n",
      "Epoch 30/30\n",
      "17225/17225 [==============================] - 22s 1ms/step - loss: 0.8462 - accuracy: 0.6851 - val_loss: 1.2435 - val_accuracy: 0.5603\n"
     ]
    },
    {
     "data": {
      "text/plain": [
       "<keras.callbacks.callbacks.History at 0x2905f223fc8>"
      ]
     },
     "execution_count": 36,
     "metadata": {},
     "output_type": "execute_result"
    }
   ],
   "source": [
    "model = build_model(input_shape=(48,48,3), output_size=48)\n",
    "\n",
    "# Train model\n",
    "epochs = 30\n",
    "batch_size = 10\n",
    "\n",
    "model.fit(X_train, y_train, epochs=epochs, batch_size=batch_size,\n",
    "                               validation_data=(X_val, y_val))"
   ]
  },
  {
   "cell_type": "code",
   "execution_count": 21,
   "metadata": {},
   "outputs": [],
   "source": [
    "model.save(\"emotion_model.h5\")"
   ]
  }
 ],
 "metadata": {
  "kernelspec": {
   "display_name": "Python 3",
   "language": "python",
   "name": "python3"
  },
  "language_info": {
   "codemirror_mode": {
    "name": "ipython",
    "version": 3
   },
   "file_extension": ".py",
   "mimetype": "text/x-python",
   "name": "python",
   "nbconvert_exporter": "python",
   "pygments_lexer": "ipython3",
   "version": "3.7.6"
  }
 },
 "nbformat": 4,
 "nbformat_minor": 4
}
